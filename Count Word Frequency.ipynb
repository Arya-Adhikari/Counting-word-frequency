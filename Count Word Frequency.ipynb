{
 "cells": [
  {
   "cell_type": "code",
   "execution_count": 25,
   "id": "27258897-92cc-498b-af05-d1097ca20777",
   "metadata": {},
   "outputs": [
    {
     "name": "stderr",
     "output_type": "stream",
     "text": [
      "[nltk_data] Downloading package punkt to\n",
      "[nltk_data]     C:\\Users\\Arya\\AppData\\Roaming\\nltk_data...\n",
      "[nltk_data]   Package punkt is already up-to-date!\n"
     ]
    },
    {
     "name": "stdin",
     "output_type": "stream",
     "text": [
      "Enter your text:  hello what what is is is up up up up\n"
     ]
    },
    {
     "name": "stdout",
     "output_type": "stream",
     "text": [
      "\n",
      "Word Frequency:\n",
      "'hello': 1\n",
      "'what': 2\n",
      "'is': 3\n",
      "'up': 4\n"
     ]
    }
   ],
   "source": [
    "import nltk\n",
    "from collections import Counter\n",
    "import string\n",
    "\n",
    "# Download necessary NLTK resources\n",
    "nltk.download('punkt')\n",
    "\n",
    "def count_word_frequency():\n",
    "    # Accept text input from the user\n",
    "    text = input(\"Enter your text: \")\n",
    "\n",
    "    # Tokenize the text (convert it to a list of words)\n",
    "    words = nltk.word_tokenize(text)\n",
    "\n",
    "    # Preprocess the text:\n",
    "    # Convert words to lowercase and remove punctuation\n",
    "    words = [word.lower() for word in words if word.isalpha()]  # Keep only alphabetic words\n",
    "\n",
    "    # Count the frequency of each word using Counter\n",
    "    word_frequency = Counter(words)\n",
    "\n",
    "    # Output the word frequency in a readable format\n",
    "    print(\"\\nWord Frequency:\")\n",
    "    for word, freq in word_frequency.items():\n",
    "        print(f\"'{word}': {freq}\")\n",
    "\n",
    "# Call the function\n",
    "count_word_frequency()"
   ]
  }
 ],
 "metadata": {
  "kernelspec": {
   "display_name": "Python 3 (ipykernel)",
   "language": "python",
   "name": "python3"
  },
  "language_info": {
   "codemirror_mode": {
    "name": "ipython",
    "version": 3
   },
   "file_extension": ".py",
   "mimetype": "text/x-python",
   "name": "python",
   "nbconvert_exporter": "python",
   "pygments_lexer": "ipython3",
   "version": "3.12.4"
  }
 },
 "nbformat": 4,
 "nbformat_minor": 5
}
